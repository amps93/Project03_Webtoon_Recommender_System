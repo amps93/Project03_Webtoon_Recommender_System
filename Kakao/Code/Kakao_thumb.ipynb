{
 "cells": [
  {
   "cell_type": "code",
   "execution_count": 1,
   "id": "5184b579-0e77-4225-a9c4-d6ff75fdad5b",
   "metadata": {},
   "outputs": [],
   "source": [
    "import json\n",
    "\n",
    "with open('weekdays.json', 'r', encoding='utf8') as f:\n",
    "    contents = f.read()\n",
    "    json_data = json.loads(contents)\n",
    "\n",
    "# print(json.dumps(json_data, indent=\"\\t\", ensure_ascii=False))\n",
    "# print(json_data['data']['sections'][0]['cardGroups'][0]['cards'][0]['content']['title'])"
   ]
  },
  {
   "cell_type": "code",
   "execution_count": 2,
   "id": "d1811206-e877-4635-8bfd-11d628c8d8e8",
   "metadata": {},
   "outputs": [
    {
     "name": "stdout",
     "output_type": "stream",
     "text": [
      "사귄 건 아닌데\n",
      "['#설레는', '#가슴 먹먹한', '#로맨스', '#연애물']\n",
      "스물아홉 살, 서른을 목전에 둔 나이. \n",
      "고수아는 그 나이가 괜히 심란하다. \n",
      "\n",
      "고향을 떠나 서울에서 일을 하고 있지만,\n",
      "미래를 생각하면 고민이 많아진다. \n",
      "이곳에서의 삶에 대한 확신이 없기에. \n",
      "\n",
      "그러던 중 대학 시절에 짝사랑했던 후범과 재회하게 된다.\n",
      "9년 만의 재회에 다시 살아나는 그때의 감정.\n",
      "과거에 상처받았던 후범에 대한 마음을 봉합해 나가며 \n",
      "어린 시절에는 몰랐던 후범에 대해서 알아가게 된다. \n",
      "\n",
      "수아에게 다가온 또 다른 남자, 상사 기초롱.\n",
      "속 깊은 어른의 다정함을 보여주는 그가\n",
      "당황스러우면서도 마음 한쪽에선 호감이 싹 튼다. \n",
      "\n",
      "고민이 깊어진 스물아홉 살 수아가\n",
      "자신의 마음을 찾아가는 이야기.\n",
      "[{'name': '민홍', 'type': 'AUTHOR', 'order': 1}, {'name': '민홍', 'type': 'ILLUSTRATOR', 'order': 2}, {'name': '카카오웹툰 스튜디오', 'type': 'PUBLISHER', 'order': 3}]\n",
      "https://kr-a.kakaopagecdn.com/P/C/1933/c2/2x/fe98d437-b49f-443d-ae33-5b7104749d36.png\n"
     ]
    }
   ],
   "source": [
    "# 구조 정제\n",
    "\n",
    "title = json_data['data']['sections'][0]['cardGroups'][0]['cards'][0]['content']['title']\n",
    "keyword = json_data['data']['sections'][0]['cardGroups'][0]['cards'][0]['content']['seoKeywords']\n",
    "synopsis = json_data['data']['sections'][0]['cardGroups'][0]['cards'][0]['content']['synopsis']\n",
    "authors = json_data['data']['sections'][0]['cardGroups'][0]['cards'][0]['content']['authors']\n",
    "featuredCharacterImageB = json_data['data']['sections'][0]['cardGroups'][0]['cards'][0]['content']['featuredCharacterImageB']\n",
    "\n",
    "print(title)\n",
    "print(keyword)\n",
    "print(synopsis)\n",
    "print(authors)\n",
    "print(featuredCharacterImageB+'.png')"
   ]
  },
  {
   "cell_type": "code",
   "execution_count": 3,
   "id": "1c6cd467-3768-4796-87ca-c63e7b273cc0",
   "metadata": {},
   "outputs": [],
   "source": [
    "x = 0\n",
    "y = 0\n",
    "z = 0\n",
    "\n",
    "days = []\n",
    "titles = []\n",
    "keywords = []\n",
    "synopsises = []\n",
    "authorsl = []\n",
    "main_image = []\n",
    "\n",
    "while True:\n",
    "  try:\n",
    "    xs = json_data['data']['sections'][x]\n",
    "    while True:\n",
    "      try:\n",
    "        ys = xs['cardGroups'][y]\n",
    "        while True:\n",
    "          try:\n",
    "            day = xs['title']\n",
    "            title = ys['cards'][z]['content']['title']\n",
    "            keyword = ys['cards'][z]['content']['seoKeywords']\n",
    "            synopsis = ys['cards'][z]['content']['synopsis']\n",
    "            authors = ys['cards'][z]['content']['authors']\n",
    "            images = ys['cards'][z]['content']['featuredCharacterImageB']\n",
    "\n",
    "            days.append(day)\n",
    "            titles.append(title)\n",
    "            keywords.append(keyword)\n",
    "            synopsises.append(synopsis)\n",
    "            authorsl.append(authors)\n",
    "            main_image.append(images)\n",
    "\n",
    "            z += 1\n",
    "          except:\n",
    "            z = 0\n",
    "            y += 1\n",
    "            break\n",
    "      except:\n",
    "        z = 0\n",
    "        y = 0\n",
    "        x += 1\n",
    "        break\n",
    "  except:\n",
    "    break"
   ]
  },
  {
   "cell_type": "code",
   "execution_count": 4,
   "id": "2ef493ca-5081-45af-8c2e-383a5a0327c2",
   "metadata": {},
   "outputs": [],
   "source": [
    "#제목 정제\n",
    "import re\n",
    "\n",
    "re_titles = []\n",
    "\n",
    "for i in range(len(titles)):\n",
    "    re_titles.append(re.sub('[^0-9a-zA-Zㄱ-힗]','',titles[i]))\n",
    "    \n",
    "# re_titles"
   ]
  },
  {
   "cell_type": "code",
   "execution_count": 5,
   "id": "cec32b16-1e11-452a-af7a-133bd2665c7a",
   "metadata": {},
   "outputs": [
    {
     "name": "stdout",
     "output_type": "stream",
     "text": [
      "['https://kr-a.kakaopagecdn.com/P/C/1933/c2/2x/fe98d437-b49f-443d-ae33-5b7104749d36.png', 'https://kr-a.kakaopagecdn.com/P/C/1781/c2/2x/51701624-4b03-405c-9db0-5a1be66409c0.png', 'https://kr-a.kakaopagecdn.com/P/C/2147/c2/2x/c917caf4-bf05-410f-aa46-de35b3c767f1.png', 'https://kr-a.kakaopagecdn.com/P/C/2143/c2/2x/82ebbba0-c395-4d75-bf22-0f34262735be.png', 'https://kr-a.kakaopagecdn.com/P/C/198/c2/2x/fecbc7f1-49c1-46be-9fe9-ca80c7284a77.png', 'https://kr-a.kakaopagecdn.com/P/C/1959/c2/2x/3948aa5a-eac2-4109-b9bf-32810315ca4e.png', 'https://kr-a.kakaopagecdn.com/P/C/1903/c2/2x/70a3be5f-e689-4b84-a332-42e73a14faab.png', 'https://kr-a.kakaopagecdn.com/P/C/2086/c2/2x/8930c6ae-4878-4233-9505-2c329adcf9d5.png', 'https://kr-a.kakaopagecdn.com/P/C/2148/c2/2x/85537ac2-d365-4e30-85a5-f2022034eb9d.png', 'https://kr-a.kakaopagecdn.com/P/C/1760/c2/2x/14d677cd-b9eb-4093-8e0d-7fb2ffe8dcf1.png', 'https://kr-a.kakaopagecdn.com/P/C/2306/c2/2x/24186843-8ca9-4a1d-af95-fc4310c05c7a.png', 'https://kr-a.kakaopagecdn.com/P/C/1931/c2/2x/3ba8f8b1-7491-4961-bc34-d9a42d0ef5f5.png', 'https://kr-a.kakaopagecdn.com/P/C/1703/c2/2x/75aeeaf6-1c30-4c85-bdc0-b9f77d6c05c1.png', 'https://kr-a.kakaopagecdn.com/P/C/2329/c2/2x/4eb372cd-966b-4723-b97d-7f8a614aef15.png', 'https://kr-a.kakaopagecdn.com/P/C/1621/c2/2x/f5e4e434-c61c-4cbc-8755-def6357181b7.png', 'https://kr-a.kakaopagecdn.com/P/C/1795/c2/2x/32d7a389-ec61-4318-a06b-46979e0c63ab.png', 'https://kr-a.kakaopagecdn.com/P/C/2145/c2/2x/70b098f5-3bbc-4855-8ed7-e96d74b9313c.png', 'https://kr-a.kakaopagecdn.com/P/C/2423/c2/2x/82c6e9ab-29cf-452d-bd2e-b648019dae11.png', 'https://kr-a.kakaopagecdn.com/P/C/1847/c2/2x/43c09bd3-51cf-458e-a20c-1c26ce504c08.png', 'https://kr-a.kakaopagecdn.com/P/C/1372/c2/2x/e9376fb4-af3f-426c-908c-912286cd5229.png', 'https://kr-a.kakaopagecdn.com/P/C/1716/c2/2x/dd129d7d-dd20-4ab6-8962-216d1817f988.png', 'https://kr-a.kakaopagecdn.com/P/C/1078/c2/2x/1fd524ad-4a9f-4b73-98ea-5c5eb81e15b7.png', 'https://kr-a.kakaopagecdn.com/P/C/2302/c2/2x/6a78bf7e-0009-4614-8754-ac847b76c295.png', 'https://kr-a.kakaopagecdn.com/P/C/1140/c2/2x/6bf62be8-8b0f-4e71-a780-f1e6e51ea1d5.png', 'https://kr-a.kakaopagecdn.com/P/C/2043/c2/2x/4c5264b1-48cb-46d0-8b9d-688f9e6a94f0.png', 'https://kr-a.kakaopagecdn.com/P/C/1768/c2/2x/94536416-caf7-4539-a572-dbc21ba73dc1.png', 'https://kr-a.kakaopagecdn.com/P/C/2479/c2/2x/8f8956d2-f438-418b-b377-cf2dccd6d0ba.png', 'https://kr-a.kakaopagecdn.com/P/C/1954/c2/2x/b42a125b-1397-4de3-810e-09f9638662c6.png', 'https://kr-a.kakaopagecdn.com/P/C/2484/c2/2x/07575c34-7867-453b-8051-8895d8ca5dc1.png', 'https://kr-a.kakaopagecdn.com/P/C/1369/c2/2x/c6407c4f-b49f-4090-9901-ad5344376deb.png', 'https://kr-a.kakaopagecdn.com/P/C/1395/c2/2x/cea3e7a1-cb09-428f-80de-1754a2ccdad9.png', 'https://kr-a.kakaopagecdn.com/P/C/1943/c2/2x/f69e7fdf-71c4-47fc-89fe-9c29952916d4.png', 'https://kr-a.kakaopagecdn.com/P/C/1891/c2/2x/c353c520-4d60-4719-99cb-5f84dc593c04.png', 'https://kr-a.kakaopagecdn.com/P/C/1705/c2/2x/fb00c0aa-a53b-4641-ac26-4bcbf04701f0.png', 'https://kr-a.kakaopagecdn.com/P/C/1998/c2/2x/e6604fe7-47d7-4de5-bc63-fbf28786951d.png', 'https://kr-a.kakaopagecdn.com/P/C/760/c2/2x/157ff3d4-8a5d-4926-a28d-40a571ee6211.png', 'https://kr-a.kakaopagecdn.com/P/C/1673/c2/2x/74b369af-780f-4cc7-b23b-e084d55128a9.png', 'https://kr-a.kakaopagecdn.com/P/C/2140/c2/2x/4b53201e-fcdb-4761-80d6-cae177d72d69.png', 'https://kr-a.kakaopagecdn.com/P/C/1825/c2/2x/1c7f9548-6c9d-4b4e-bf03-cccb60ea87b9.png', 'https://kr-a.kakaopagecdn.com/P/C/2117/c2/2x/cfc1fd69-e370-4bd2-bce9-987ccdcb088f.png', 'https://kr-a.kakaopagecdn.com/P/C/2144/c2/2x/c2174688-fbec-40d0-8d1a-8861272d9eba.png', 'https://kr-a.kakaopagecdn.com/P/C/1930/c2/2x/c5b8506b-24ce-408d-ba28-ad7bea97ef34.png', 'https://kr-a.kakaopagecdn.com/P/C/1877/c2/2x/51504d21-59bd-4308-8392-b14dba536c4d.png', 'https://kr-a.kakaopagecdn.com/P/C/2151/c2/2x/06d03188-e7d9-43de-893d-b27590db01a3.png', 'https://kr-a.kakaopagecdn.com/P/C/2364/c2/2x/19796f4e-e966-4eba-8748-a50934e9d54f.png', 'https://kr-a.kakaopagecdn.com/P/C/2152/c2/2x/08bd2f6c-2c9a-4a73-96c6-072bb70958f3.png', 'https://kr-a.kakaopagecdn.com/P/C/1863/c2/2x/47d52699-a040-4cce-9fd7-c526679597ca.png', 'https://kr-a.kakaopagecdn.com/P/C/2046/c2/2x/922f1ca7-ec24-4836-8bd6-60270d432750.png', 'https://kr-a.kakaopagecdn.com/P/C/2017/c2/2x/5eaf0b18-c024-4366-ae6b-f496f901456b.png', 'https://kr-a.kakaopagecdn.com/P/C/1794/c2/2x/76ee4672-a837-467e-ac69-567be6bb5cee.png', 'https://kr-a.kakaopagecdn.com/P/C/2021/c2/2x/920008b0-ae6c-4f08-b401-4749829a66e4.png', 'https://kr-a.kakaopagecdn.com/P/C/2034/c2/2x/ccd57c80-9112-4a41-b73c-1b9969b777b6.png', 'https://kr-a.kakaopagecdn.com/P/C/1898/c2/2x/d7366028-5b13-43e7-b553-c74ffda6b371.png', 'https://kr-a.kakaopagecdn.com/P/C/1827/c2/2x/306a379a-959e-4613-b24c-d15668c7b20c.png', 'https://kr-a.kakaopagecdn.com/P/C/2484/c2/2x/07575c34-7867-453b-8051-8895d8ca5dc1.png', 'https://kr-a.kakaopagecdn.com/P/C/1875/c2/2x/8392592d-997b-4dc1-8922-ff1ae4c8f410.png', 'https://kr-a.kakaopagecdn.com/P/C/1963/c2/2x/4adce930-a19e-43d8-be1a-f786c25d3c14.png', 'https://kr-a.kakaopagecdn.com/P/C/1299/c2/2x/9b7c0a0d-6519-4e05-872b-604f749bf0c0.png', 'https://kr-a.kakaopagecdn.com/P/C/2153/c2/2x/497c8c61-9dc5-4536-bf7b-efecbf3c69b7.png', 'https://kr-a.kakaopagecdn.com/P/C/2146/c2/2x/224ae2ae-8a79-498a-8d14-30e1a28ee6b0.png', 'https://kr-a.kakaopagecdn.com/P/C/2074/c2/2x/f0c70eec-e1f1-409c-95de-7ac891325ad9.png', 'https://kr-a.kakaopagecdn.com/P/C/1381/c2/2x/f0816d6a-2211-4f30-95a7-432bbf6a6ac6.png', 'https://kr-a.kakaopagecdn.com/P/C/2047/c2/2x/8243bf9f-2429-4237-902d-4cd9881f86e6.png', 'https://kr-a.kakaopagecdn.com/P/C/1909/c2/2x/05a386a3-0cbf-4234-84c5-de2923619665.png', 'https://kr-a.kakaopagecdn.com/P/C/1853/c2/2x/e32e48f0-7242-46a7-86e7-993ce337fb46.png', 'https://kr-a.kakaopagecdn.com/P/C/792/c2/2x/7e9cde2b-352e-4d34-84f4-df37caea2421.png', 'https://kr-a.kakaopagecdn.com/P/C/2368/c2/2x/d73e5782-bd5b-438e-a084-8dda94fa9751.png', 'https://kr-a.kakaopagecdn.com/P/C/2118/c2/2x/cbe08c60-d111-4ea7-bdda-4206c36e15d2.png', 'https://kr-a.kakaopagecdn.com/P/C/2130/c2/2x/59a9c518-5984-4a9a-b976-afb956fa8ca5.png', 'https://kr-a.kakaopagecdn.com/P/C/1132/c2/2x/26d77500-af8e-464d-b405-3121d5b00913.png', 'https://kr-a.kakaopagecdn.com/P/C/2301/c2/2x/85c241c0-00b7-4865-89d4-f2d4ae9202df.png', 'https://kr-a.kakaopagecdn.com/P/C/2049/c2/2x/1ad73d7c-ba2d-446a-8714-6762c8ce1137.png', 'https://kr-a.kakaopagecdn.com/P/C/1923/c2/2x/377fb30d-1e1f-4c5b-9589-758ddd86ff79.png', 'https://kr-a.kakaopagecdn.com/P/C/2073/c2/2x/55effd3b-940a-4ba5-bab4-e4b64459e89d.png', 'https://kr-a.kakaopagecdn.com/P/C/2135/c2/2x/f1d3725b-48f5-40e4-a0ac-2ec1abe03a33.png', 'https://kr-a.kakaopagecdn.com/P/C/2022/c2/2x/d10d2194-daea-4ee4-bac6-eac356fb321b.png', 'https://kr-a.kakaopagecdn.com/P/C/1468/c2/2x/bc3dda7e-44cf-4206-b83d-0e90a18fa92e.png', 'https://kr-a.kakaopagecdn.com/P/C/1960/c2/2x/11b79c01-b923-42d5-be4b-b39785a8408f.png', 'https://kr-a.kakaopagecdn.com/P/C/2390/c2/2x/7956398d-c517-4fef-b498-699d8ceec3b0.png', 'https://kr-a.kakaopagecdn.com/P/C/1744/c2/2x/d0530e73-9cf3-485f-a9a9-5313c5e5d765.png', 'https://kr-a.kakaopagecdn.com/P/C/1953/c2/2x/467324d1-d78f-4891-b876-876c55c4820a.png', 'https://kr-a.kakaopagecdn.com/P/C/2484/c2/2x/07575c34-7867-453b-8051-8895d8ca5dc1.png', 'https://kr-a.kakaopagecdn.com/P/C/1361/c2/2x/415376d6-8cfc-4729-a03c-e79b93653162.png', 'https://kr-a.kakaopagecdn.com/P/C/1678/c2/2x/3f29126c-ec22-45e3-8f1f-66c104bc228d.png', 'https://kr-a.kakaopagecdn.com/P/C/2064/c2/2x/55a604a9-1552-4e62-8d6c-eaaa0d8c5609.png', 'https://kr-a.kakaopagecdn.com/P/C/1796/c2/2x/0101e0c9-6ff1-43f7-a5a2-949addd38fac.png', 'https://kr-a.kakaopagecdn.com/P/C/933/c2/2x/fa15cc90-e00f-41f9-927d-de26c6bfeded.png', 'https://kr-a.kakaopagecdn.com/P/C/1878/c2/2x/fd944375-da6f-42ef-ad79-6e20491cdf21.png', 'https://kr-a.kakaopagecdn.com/P/C/2155/c2/2x/e0bc4cbe-19fb-4d02-a756-c58508ac0d06.png', 'https://kr-a.kakaopagecdn.com/P/C/2048/c2/2x/a22f9192-2f7d-4b33-8f55-5e0e0a74e2fb.png', 'https://kr-a.kakaopagecdn.com/P/C/2020/c2/2x/a014c8f6-4e07-44c5-bfea-91611afca7be.png', 'https://kr-a.kakaopagecdn.com/P/C/1861/c2/2x/41082f43-7e61-4d9d-9fb2-20e271c51028.png', 'https://kr-a.kakaopagecdn.com/P/C/2129/c2/2x/6452bf7a-7c60-4f00-89ee-22b550dbc518.png', 'https://kr-a.kakaopagecdn.com/P/C/2100/c2/2x/025c43ac-2e02-457b-919d-e431180f2251.png', 'https://kr-a.kakaopagecdn.com/P/C/2510/c2/2x/0a1afe5f-39b7-486b-ab1a-0c7c1b6768e3.png', 'https://kr-a.kakaopagecdn.com/P/C/1995/c2/2x/120bd7be-b7de-4e20-8761-7fa101c0936c.png', 'https://kr-a.kakaopagecdn.com/P/C/2512/c2/2x/a536fb00-d4e5-4ff5-a9ff-b7ff55f0069f.png', 'https://kr-a.kakaopagecdn.com/P/C/2119/c2/2x/49ea6581-64df-4a8b-afa8-647a93d17515.png', 'https://kr-a.kakaopagecdn.com/P/C/982/c2/2x/c110e633-9dac-4ff0-812e-9aa8660a96eb.png', 'https://kr-a.kakaopagecdn.com/P/C/1713/c2/2x/0ec05f81-bff3-4e50-bda5-01dc5251b3a3.png', 'https://kr-a.kakaopagecdn.com/P/C/2420/c2/2x/6ba9d274-ba46-402f-9313-a26fb5beff7c.png', 'https://kr-a.kakaopagecdn.com/P/C/1981/c2/2x/469c86b6-ea62-4552-bec5-a90c7599a1d2.png', 'https://kr-a.kakaopagecdn.com/P/C/1924/c2/2x/eb621a31-e0f5-467e-acf5-5ed53a689c4f.png', 'https://kr-a.kakaopagecdn.com/P/C/2390/c2/2x/7956398d-c517-4fef-b498-699d8ceec3b0.png', 'https://kr-a.kakaopagecdn.com/P/C/2042/c2/2x/f334ae8c-5a64-4ee3-b787-1b12895444e5.png', 'https://kr-a.kakaopagecdn.com/P/C/1939/c2/2x/8fcaa878-537d-4c35-8881-bbe3f2eccd23.png', 'https://kr-a.kakaopagecdn.com/P/C/2322/c2/2x/093c4269-5efe-4c44-be31-9c99e754fbcc.png', 'https://kr-a.kakaopagecdn.com/P/C/2075/c2/2x/26c4d652-0c5f-4920-af86-296982a7785b.png', 'https://kr-a.kakaopagecdn.com/P/C/2045/c2/2x/1cf2585b-8ead-4023-8aa5-b3c6b2f0d493.png', 'https://kr-a.kakaopagecdn.com/P/C/1973/c2/2x/953cd017-21d9-44b7-b2a7-4636151d37d9.png', 'https://kr-a.kakaopagecdn.com/P/C/2484/c2/2x/07575c34-7867-453b-8051-8895d8ca5dc1.png', 'https://kr-a.kakaopagecdn.com/P/C/1694/c2/2x/57cfc03b-c594-47df-ac90-774893fdb04e.png', 'https://kr-a.kakaopagecdn.com/P/C/1405/c2/2x/55c71e34-7a58-45bd-a165-70f66c87f34b.png', 'https://kr-a.kakaopagecdn.com/P/C/1304/c2/2x/66f93a8b-0e3e-421c-b34a-504c76d5fdbe.png', 'https://kr-a.kakaopagecdn.com/P/C/1336/c2/2x/085c5de2-7921-4986-a13d-60cf1db386ea.png', 'https://kr-a.kakaopagecdn.com/P/C/2149/c2/2x/e22240a0-1bd2-4498-bc73-184445e33b17.png', 'https://kr-a.kakaopagecdn.com/P/C/1762/c2/2x/c4a73671-fc60-4e3f-bc90-49af0e3a5215.png', 'https://kr-a.kakaopagecdn.com/P/C/1295/c2/2x/bd7df5fe-3277-4c6f-a399-9235b1d8259b.png', 'https://kr-a.kakaopagecdn.com/P/C/1855/c2/2x/de145672-2eb2-40c7-84a9-3201383a38d0.png', 'https://kr-a.kakaopagecdn.com/P/C/2132/c2/2x/2bdcb588-a9ea-422d-84a1-a7401928e46c.png', 'https://kr-a.kakaopagecdn.com/P/C/2044/c2/2x/894a3975-b3f8-470c-854b-6986ab3ca7ed.png', 'https://kr-a.kakaopagecdn.com/P/C/2137/c2/2x/6a90d750-ff6c-4899-a700-acf5d0104196.png', 'https://kr-a.kakaopagecdn.com/P/C/2089/c2/2x/674c2fec-7bbb-4bd5-a186-934761b99060.png', 'https://kr-a.kakaopagecdn.com/P/C/1577/c2/2x/b6638662-c5c5-4685-8572-862607e51756.png', 'https://kr-a.kakaopagecdn.com/P/C/2090/c2/2x/17e60f62-29dc-44bd-a1d5-354d2d1a75e9.png', 'https://kr-a.kakaopagecdn.com/P/C/1999/c2/2x/7288216c-c04c-4a73-80f0-5bfcd6024ed0.png', 'https://kr-a.kakaopagecdn.com/P/C/1919/c2/2x/fdf1dbf3-1ed4-48ff-8f4a-975d7630593a.png', 'https://kr-a.kakaopagecdn.com/P/C/2146/c2/2x/224ae2ae-8a79-498a-8d14-30e1a28ee6b0.png', 'https://kr-a.kakaopagecdn.com/P/C/1816/c2/2x/a24da0c5-70bd-4eac-8c31-39246dbba80f.png', 'https://kr-a.kakaopagecdn.com/P/C/2126/c2/2x/cd4e7f9a-09c5-415c-bd3b-b02b8c446a9c.png', 'https://kr-a.kakaopagecdn.com/P/C/1558/c2/2x/a077498f-ce81-4aab-a33d-82494b4348d4.png', 'https://kr-a.kakaopagecdn.com/P/C/1757/c2/2x/7c736eea-7c1b-4f33-90a3-442e35f35802.png', 'https://kr-a.kakaopagecdn.com/P/C/2004/c2/2x/2bc4de93-dc6d-432f-8d21-ddd5369c2715.png', 'https://kr-a.kakaopagecdn.com/P/C/2097/c2/2x/793aef46-f21f-4864-ae87-2f1eee697ee8.png', 'https://kr-a.kakaopagecdn.com/P/C/1298/c2/2x/17f611de-5a91-4c9e-84b7-cd6c876493c5.png', 'https://kr-a.kakaopagecdn.com/P/C/1882/c2/2x/6866c01f-3798-420f-994d-e06ba9c0c401.png', 'https://kr-a.kakaopagecdn.com/P/C/2359/c2/2x/2a54a97e-348a-4d60-b635-ee01e7996afd.png', 'https://kr-a.kakaopagecdn.com/P/C/2484/c2/2x/07575c34-7867-453b-8051-8895d8ca5dc1.png', 'https://kr-a.kakaopagecdn.com/P/C/1497/c2/2x/4d32e811-ca17-4c28-bbc5-1654cb904f01.png', 'https://kr-a.kakaopagecdn.com/P/C/869/c2/2x/07d04df6-0146-4428-aa43-aa5e693f4e36.png', 'https://kr-a.kakaopagecdn.com/P/C/2141/c2/2x/7130f8b3-f053-4d91-bdd8-7be2d831fdc8.png', 'https://kr-a.kakaopagecdn.com/P/C/2080/c2/2x/0c0a7c7d-5096-47f3-96df-54c6dfffc521.png', 'https://kr-a.kakaopagecdn.com/P/C/1347/c2/2x/92728f9f-8cc5-49d5-974c-cf4d547366b3.png', 'https://kr-a.kakaopagecdn.com/P/C/1986/c2/2x/1068dd64-0b35-4c2b-8937-8b5658c5fe81.png', 'https://kr-a.kakaopagecdn.com/P/C/1682/c2/2x/c1c9616a-ba8d-4186-837f-5fd01ef27816.png', 'https://kr-a.kakaopagecdn.com/P/C/1545/c2/2x/6f52a48e-a00a-4199-b257-d801b735eaad.png', 'https://kr-a.kakaopagecdn.com/P/C/1531/c2/2x/6d465977-f44f-4d42-987f-1906f1e2da71.png', 'https://kr-a.kakaopagecdn.com/P/C/2134/c2/2x/285860fe-0f01-4699-9b2c-3cab65eedaf6.png', 'https://kr-a.kakaopagecdn.com/P/C/1916/c2/2x/0c183d61-b2e8-400f-8c5a-08035f7c044a.png', 'https://kr-a.kakaopagecdn.com/P/C/1852/c2/2x/9efc36d3-9176-41d7-b875-19df661c4ff2.png', 'https://kr-a.kakaopagecdn.com/P/C/2131/c2/2x/9ecd1414-4b6d-4d94-8186-a83f4845e69f.png', 'https://kr-a.kakaopagecdn.com/P/C/1905/c2/2x/4b2f7335-7558-4b26-bad1-03111dc1c56c.png', 'https://kr-a.kakaopagecdn.com/P/C/2338/c2/2x/f29392ba-727b-4b5a-8585-fc52341dafad.png', 'https://kr-a.kakaopagecdn.com/P/C/2343/c2/2x/83f76933-8b76-47bc-8907-a12425a9343e.png', 'https://kr-a.kakaopagecdn.com/P/C/2422/c2/2x/4af224f9-1808-4d92-a4d3-049ba7529c92.png', 'https://kr-a.kakaopagecdn.com/P/C/2124/c2/2x/272e38c8-5893-4400-9d5b-1c071ccc368d.png', 'https://kr-a.kakaopagecdn.com/P/C/1689/c2/2x/fd0e7048-6424-4b55-b139-102aa77d71a0.png', 'https://kr-a.kakaopagecdn.com/P/C/1872/c2/2x/4c5ac0bf-0e13-4458-9355-b95e246ec21a.png', 'https://kr-a.kakaopagecdn.com/P/C/1089/c2/2x/6ca938fb-f02f-45e4-9468-13bbdd3b629a.png', 'https://kr-a.kakaopagecdn.com/P/C/1351/c2/2x/7e754ebd-c929-4a4c-8255-4652dc8e79c8.png', 'https://kr-a.kakaopagecdn.com/P/C/1836/c2/2x/0613c9ea-e3ec-4259-a683-b3065cccd249.png', 'https://kr-a.kakaopagecdn.com/P/C/2091/c2/2x/1196ef3e-a31c-485a-85ee-036c78abeabd.png', 'https://kr-a.kakaopagecdn.com/P/C/2068/c2/2x/bb001f09-b948-4955-af4b-85601a1546de.png', 'https://kr-a.kakaopagecdn.com/P/C/2308/c2/2x/c729d971-56eb-428d-8a2c-9a8b5aef94bf.png', 'https://kr-a.kakaopagecdn.com/P/C/1450/c2/2x/88a29b94-7d96-47c2-b93e-ad476dcb2a33.png', 'https://kr-a.kakaopagecdn.com/P/C/1873/c2/2x/2a351b97-7be3-43ce-807f-99a13988e55c.png', 'https://kr-a.kakaopagecdn.com/P/C/1262/c2/2x/d890919b-59d6-4a09-b9b6-5a0d0a07d954.png', 'https://kr-a.kakaopagecdn.com/P/C/2142/c2/2x/39fedc51-7d11-4b37-8322-311296379b12.png', 'https://kr-a.kakaopagecdn.com/P/C/1295/c2/2x/bd7df5fe-3277-4c6f-a399-9235b1d8259b.png', 'https://kr-a.kakaopagecdn.com/P/C/2511/c2/2x/5a5589a4-3c77-4572-887d-266cc012ab19.png', 'https://kr-a.kakaopagecdn.com/P/C/1575/c2/2x/bfce7696-58c1-46df-ae68-dfff83dd7772.png', 'https://kr-a.kakaopagecdn.com/P/C/2139/c2/2x/b4a449a4-7082-4a85-a0e9-9c98b15abc3a.png', 'https://kr-a.kakaopagecdn.com/P/C/2150/c2/2x/b0b10a84-7b10-470b-8e9f-acdd5cc0073e.png', 'https://kr-a.kakaopagecdn.com/P/C/2300/c2/2x/3c1d2f3e-8c0b-4129-b41c-e9fd58daa04e.png', 'https://kr-a.kakaopagecdn.com/P/C/2504/c2/2x/7ed4d4aa-6fba-48e5-9858-2f1b94915817.png', 'https://kr-a.kakaopagecdn.com/P/C/2024/c2/2x/df3facf4-e78c-43ff-889d-0022099ce473.png', 'https://kr-a.kakaopagecdn.com/P/C/2517/c2/2x/b9ea5bc5-c730-4282-b88a-666a18b3c917.png', 'https://kr-a.kakaopagecdn.com/P/C/2370/c2/2x/93bdc8e8-b922-4c9b-931f-6b0c8d9f2768.png', 'https://kr-a.kakaopagecdn.com/P/C/2133/c2/2x/527565e5-f0d5-4f98-8699-1f50aa9c8b96.png', 'https://kr-a.kakaopagecdn.com/P/C/2154/c2/2x/42723dfb-b08b-46ca-a08a-8cc313ca1940.png', 'https://kr-a.kakaopagecdn.com/P/C/1351/c2/2x/7e754ebd-c929-4a4c-8255-4652dc8e79c8.png', 'https://kr-a.kakaopagecdn.com/P/C/1980/c2/2x/566dc90a-28e0-4ad9-b3b3-27eddc8c081e.png', 'https://kr-a.kakaopagecdn.com/P/C/2029/c2/2x/2d6e9cd0-6921-4e6c-8071-de3920c4e8ad.png', 'https://kr-a.kakaopagecdn.com/P/C/1908/c2/2x/540a6557-3ad2-4b16-bcd5-1d25d0892c9b.png', 'https://kr-a.kakaopagecdn.com/P/C/1982/c2/2x/165e3e84-77ed-498f-bee3-8391754e8290.png', 'https://kr-a.kakaopagecdn.com/P/C/1776/c2/2x/c769b031-2b01-43cb-92d2-39e6ecba4a82.png']\n"
     ]
    }
   ],
   "source": [
    "# url 정제\n",
    "img_url = []\n",
    "for i in range(len(main_image)):\n",
    "    img_url.append(str(main_image[i])+'.png')\n",
    "print(img_url)"
   ]
  },
  {
   "cell_type": "code",
   "execution_count": 18,
   "id": "44b5f9a0-86c8-4d20-bc3c-a1ae14b4193e",
   "metadata": {},
   "outputs": [
    {
     "name": "stdout",
     "output_type": "stream",
     "text": [
      "13.119267225265503\n"
     ]
    }
   ],
   "source": [
    "import os\n",
    "import time\n",
    "import urllib.request\n",
    "\n",
    "start = time.time()\n",
    "\n",
    "for i in range(len(img_url)):\n",
    "#     os.system(\"curl \" + img_url[i] + \" > \" + re_titles[i] + \".jpg\")\n",
    "    urllib.request.urlretrieve(img_url[i], \"./img/\"+ re_titles[i] +\".jpg\")\n",
    "\n",
    "print(time.time() - start)"
   ]
  },
  {
   "cell_type": "code",
   "execution_count": null,
   "id": "4ca1aa6b-4957-4a1a-9809-2b31daeff294",
   "metadata": {},
   "outputs": [],
   "source": []
  }
 ],
 "metadata": {
  "kernelspec": {
   "display_name": "Python Multi",
   "language": "python",
   "name": "multi"
  },
  "language_info": {
   "codemirror_mode": {
    "name": "ipython",
    "version": 3
   },
   "file_extension": ".py",
   "mimetype": "text/x-python",
   "name": "python",
   "nbconvert_exporter": "python",
   "pygments_lexer": "ipython3",
   "version": "3.7.6"
  }
 },
 "nbformat": 4,
 "nbformat_minor": 5
}
