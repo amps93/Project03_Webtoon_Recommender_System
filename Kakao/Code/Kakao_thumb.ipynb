{
 "cells": [
  {
   "cell_type": "code",
   "execution_count": 3,
   "id": "5184b579-0e77-4225-a9c4-d6ff75fdad5b",
   "metadata": {},
   "outputs": [],
   "source": [
    "import json\n",
    "\n",
    "with open('weekdays.json', 'r', encoding='utf8') as f:\n",
    "    contents = f.read()\n",
    "    json_data = json.loads(contents)\n",
    "\n",
    "# print(json.dumps(json_data, indent=\"\\t\", ensure_ascii=False))\n",
    "# print(json_data['data']['sections'][0]['cardGroups'][0]['cards'][0]['content']['title'])"
   ]
  },
  {
   "cell_type": "code",
   "execution_count": 4,
   "id": "d1811206-e877-4635-8bfd-11d628c8d8e8",
   "metadata": {},
   "outputs": [
    {
     "name": "stdout",
     "output_type": "stream",
     "text": [
      "사귄 건 아닌데\n",
      "['#설레는', '#가슴 먹먹한', '#로맨스', '#연애물']\n",
      "스물아홉 살, 서른을 목전에 둔 나이. \n",
      "고수아는 그 나이가 괜히 심란하다. \n",
      "\n",
      "고향을 떠나 서울에서 일을 하고 있지만,\n",
      "미래를 생각하면 고민이 많아진다. \n",
      "이곳에서의 삶에 대한 확신이 없기에. \n",
      "\n",
      "그러던 중 대학 시절에 짝사랑했던 후범과 재회하게 된다.\n",
      "9년 만의 재회에 다시 살아나는 그때의 감정.\n",
      "과거에 상처받았던 후범에 대한 마음을 봉합해 나가며 \n",
      "어린 시절에는 몰랐던 후범에 대해서 알아가게 된다. \n",
      "\n",
      "수아에게 다가온 또 다른 남자, 상사 기초롱.\n",
      "속 깊은 어른의 다정함을 보여주는 그가\n",
      "당황스러우면서도 마음 한쪽에선 호감이 싹 튼다. \n",
      "\n",
      "고민이 깊어진 스물아홉 살 수아가\n",
      "자신의 마음을 찾아가는 이야기.\n",
      "[{'name': '민홍', 'type': 'AUTHOR', 'order': 1}, {'name': '민홍', 'type': 'ILLUSTRATOR', 'order': 2}, {'name': '카카오웹툰 스튜디오', 'type': 'PUBLISHER', 'order': 3}]\n",
      "https://kr-a.kakaopagecdn.com/P/C/1933/c2/2x/fe98d437-b49f-443d-ae33-5b7104749d36.png\n"
     ]
    }
   ],
   "source": [
    "# 구조 정제\n",
    "\n",
    "title = json_data['data']['sections'][0]['cardGroups'][0]['cards'][0]['content']['title']\n",
    "keyword = json_data['data']['sections'][0]['cardGroups'][0]['cards'][0]['content']['seoKeywords']\n",
    "synopsis = json_data['data']['sections'][0]['cardGroups'][0]['cards'][0]['content']['synopsis']\n",
    "authors = json_data['data']['sections'][0]['cardGroups'][0]['cards'][0]['content']['authors']\n",
    "featuredCharacterImageB = json_data['data']['sections'][0]['cardGroups'][0]['cards'][0]['content']['featuredCharacterImageB']\n",
    "\n",
    "print(title)\n",
    "print(keyword)\n",
    "print(synopsis)\n",
    "print(authors)\n",
    "print(featuredCharacterImageB+'.png')"
   ]
  },
  {
   "cell_type": "code",
   "execution_count": 5,
   "id": "1c6cd467-3768-4796-87ca-c63e7b273cc0",
   "metadata": {},
   "outputs": [],
   "source": [
    "x = 0\n",
    "y = 0\n",
    "z = 0\n",
    "\n",
    "days = []\n",
    "titles = []\n",
    "keywords = []\n",
    "synopsises = []\n",
    "authorsl = []\n",
    "main_image = []\n",
    "\n",
    "while True:\n",
    "  try:\n",
    "    xs = json_data['data']['sections'][x]\n",
    "    while True:\n",
    "      try:\n",
    "        ys = xs['cardGroups'][y]\n",
    "        while True:\n",
    "          try:\n",
    "            day = xs['title']\n",
    "            title = ys['cards'][z]['content']['title']\n",
    "            keyword = ys['cards'][z]['content']['seoKeywords']\n",
    "            synopsis = ys['cards'][z]['content']['synopsis']\n",
    "            authors = ys['cards'][z]['content']['authors']\n",
    "            images = ys['cards'][z]['content']['featuredCharacterImageB']\n",
    "\n",
    "            days.append(day)\n",
    "            titles.append(title)\n",
    "            keywords.append(keyword)\n",
    "            synopsises.append(synopsis)\n",
    "            authorsl.append(authors)\n",
    "            main_image.append(images)\n",
    "\n",
    "            z += 1\n",
    "          except:\n",
    "            z = 0\n",
    "            y += 1\n",
    "            break\n",
    "      except:\n",
    "        z = 0\n",
    "        y = 0\n",
    "        x += 1\n",
    "        break\n",
    "  except:\n",
    "    break"
   ]
  },
  {
   "cell_type": "code",
   "execution_count": 7,
   "id": "2ef493ca-5081-45af-8c2e-383a5a0327c2",
   "metadata": {},
   "outputs": [],
   "source": [
    "#제목 정제\n",
    "import re\n",
    "\n",
    "re_titles = []\n",
    "\n",
    "for i in range(len(titles)):\n",
    "    re_titles.append(re.sub('[^0-9a-zA-Zㄱ-힗]','',titles[i]))\n",
    "    \n",
    "# re_titles"
   ]
  },
  {
   "cell_type": "code",
   "execution_count": 12,
   "id": "cec32b16-1e11-452a-af7a-133bd2665c7a",
   "metadata": {},
   "outputs": [],
   "source": [
    "# url 정제\n",
    "img_url = []\n",
    "for i in range(len(main_image)):\n",
    "    img_url.append(str(main_image[i])+'.png')\n",
    "# print(img_url)"
   ]
  },
  {
   "cell_type": "code",
   "execution_count": 18,
   "id": "44b5f9a0-86c8-4d20-bc3c-a1ae14b4193e",
   "metadata": {},
   "outputs": [
    {
     "name": "stdout",
     "output_type": "stream",
     "text": [
      "13.119267225265503\n"
     ]
    }
   ],
   "source": [
    "import os\n",
    "import time\n",
    "import urllib.request\n",
    "\n",
    "start = time.time()\n",
    "\n",
    "for i in range(len(img_url)):\n",
    "#     os.system(\"curl \" + img_url[i] + \" > \" + re_titles[i] + \".jpg\")\n",
    "    urllib.request.urlretrieve(img_url[i], \"./img/\"+ re_titles[i] +\".jpg\")\n",
    "\n",
    "print(time.time() - start)"
   ]
  },
  {
   "cell_type": "code",
   "execution_count": null,
   "id": "4ca1aa6b-4957-4a1a-9809-2b31daeff294",
   "metadata": {},
   "outputs": [],
   "source": []
  }
 ],
 "metadata": {
  "kernelspec": {
   "display_name": "Python Multi",
   "language": "python",
   "name": "multi"
  },
  "language_info": {
   "codemirror_mode": {
    "name": "ipython",
    "version": 3
   },
   "file_extension": ".py",
   "mimetype": "text/x-python",
   "name": "python",
   "nbconvert_exporter": "python",
   "pygments_lexer": "ipython3",
   "version": "3.7.6"
  }
 },
 "nbformat": 4,
 "nbformat_minor": 5
}
