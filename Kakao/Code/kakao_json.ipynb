{
 "cells": [
  {
   "cell_type": "code",
   "execution_count": null,
   "id": "fa096e0a",
   "metadata": {
    "colab": {
     "base_uri": "https://localhost:8080/"
    },
    "id": "K8jIFaF9G6C9",
    "outputId": "a6a9857c-3143-4043-fe9c-1453496392c1"
   },
   "outputs": [],
   "source": [
    "import json\r\n",
    "\r\n",
    "with open('weekdays.json', 'r', encoding='utf8') as f:\r\n",
    "    contents = f.read()\r\n",
    "    json_data = json.loads(contents)\r\n",
    "\r\n",
    "print(json.dumps(json_data, indent=\"\\t\", ensure_ascii=False))\r\n",
    "# print(json_data['data']['sections'][0]['cardGroups'][0]['cards'][0]['content']['title'])"
   ]
  },
  {
   "cell_type": "code",
   "execution_count": null,
   "id": "7a45557a",
   "metadata": {
    "colab": {
     "base_uri": "https://localhost:8080/"
    },
    "id": "uIV452M2G6DA",
    "outputId": "a081269a-95c7-4967-fd7c-a0c6fa506bf0"
   },
   "outputs": [],
   "source": [
    "# 구조 정제\r\n",
    "\r\n",
    "title = json_data['data']['sections'][0]['cardGroups'][0]['cards'][0]['content']['title']\r\n",
    "keyword = json_data['data']['sections'][0]['cardGroups'][0]['cards'][0]['content']['seoKeywords']\r\n",
    "synopsis = json_data['data']['sections'][0]['cardGroups'][0]['cards'][0]['content']['synopsis']\r\n",
    "authors = json_data['data']['sections'][0]['cardGroups'][0]['cards'][0]['content']['authors']\r\n",
    "featuredCharacterImageB = json_data['data']['sections'][0]['cardGroups'][0]['cards'][0]['content']['featuredCharacterImageB']\r\n",
    "\r\n",
    "print(title)\r\n",
    "print(keyword)\r\n",
    "print(synopsis)\r\n",
    "print(authors)\r\n",
    "print(featuredCharacterImageB+'.png')"
   ]
  },
  {
   "cell_type": "code",
   "execution_count": null,
   "id": "6a4f5774",
   "metadata": {
    "id": "vMJE4an5G6DB"
   },
   "outputs": [],
   "source": [
    "x = 0\r\n",
    "y = 0\r\n",
    "z = 0\r\n",
    "\r\n",
    "days = []\r\n",
    "titles = []\r\n",
    "keywords = []\r\n",
    "synopsises = []\r\n",
    "authorsl = []\r\n",
    "main_image = []\r\n",
    "\r\n",
    "while True:\r\n",
    "  try:\r\n",
    "    xs = json_data['data']['sections'][x]\r\n",
    "    while True:\r\n",
    "      try:\r\n",
    "        ys = xs['cardGroups'][y]\r\n",
    "        while True:\r\n",
    "          try:\r\n",
    "            day = xs['title']\r\n",
    "            title = ys['cards'][z]['content']['title']\r\n",
    "            keyword = ys['cards'][z]['content']['seoKeywords']\r\n",
    "            synopsis = ys['cards'][z]['content']['synopsis']\r\n",
    "            authors = ys['cards'][z]['content']['authors']\r\n",
    "            images = ys['cards'][z]['content']['featuredCharacterImageB']\r\n",
    "\r\n",
    "            days.append(day)\r\n",
    "            titles.append(title)\r\n",
    "            keywords.append(keyword)\r\n",
    "            synopsises.append(synopsis)\r\n",
    "            authorsl.append(authors)\r\n",
    "            main_image.append(images)\r\n",
    "\r\n",
    "            z += 1\r\n",
    "          except:\r\n",
    "            z = 0\r\n",
    "            y += 1\r\n",
    "            break\r\n",
    "      except:\r\n",
    "        z = 0\r\n",
    "        y = 0\r\n",
    "        x += 1\r\n",
    "        break\r\n",
    "  except:\r\n",
    "    break"
   ]
  },
  {
   "cell_type": "code",
   "execution_count": null,
   "id": "fb31c5e2",
   "metadata": {},
   "outputs": [],
   "source": [
    "print(titles)"
   ]
  },
  {
   "cell_type": "code",
   "execution_count": null,
   "id": "8237e304",
   "metadata": {
    "colab": {
     "base_uri": "https://localhost:8080/"
    },
    "id": "cyz4ES7GKmP3",
    "outputId": "317cf29e-0176-456f-cfd7-856ec753f55d"
   },
   "outputs": [],
   "source": [
    "print(synopsises)"
   ]
  },
  {
   "cell_type": "code",
   "execution_count": null,
   "id": "1edcfec7",
   "metadata": {
    "colab": {
     "base_uri": "https://localhost:8080/"
    },
    "id": "68afPkL3MO4T",
    "outputId": "0818a7c1-e1d7-4987-d63a-771ae970fd2f"
   },
   "outputs": [],
   "source": [
    "print(authorsl)"
   ]
  },
  {
   "cell_type": "code",
   "execution_count": null,
   "id": "5537c6a8",
   "metadata": {
    "colab": {
     "base_uri": "https://localhost:8080/"
    },
    "id": "8mpEUAo2NM8Q",
    "outputId": "44b94ca2-f0df-4578-a055-d2cddee06e16"
   },
   "outputs": [],
   "source": [
    "print(days)"
   ]
  },
  {
   "cell_type": "code",
   "execution_count": null,
   "id": "e7b0f2fa",
   "metadata": {
    "colab": {
     "base_uri": "https://localhost:8080/"
    },
    "id": "H26In5TrMXcC",
    "outputId": "bd28070e-8c27-4c46-9170-683b75669c9c"
   },
   "outputs": [],
   "source": [
    "authorsl[0][0]"
   ]
  },
  {
   "cell_type": "code",
   "execution_count": null,
   "id": "33aa26bf",
   "metadata": {
    "id": "yyRke0qJMSiP"
   },
   "outputs": [],
   "source": [
    "writers = [authorsl[i][0]['name'] for i in range(len(authorsl))]\r\n",
    "illustrator = [authorsl[i][1]['name'] for i in range(len(authorsl))]"
   ]
  },
  {
   "cell_type": "code",
   "execution_count": null,
   "id": "be0377fd",
   "metadata": {
    "colab": {
     "base_uri": "https://localhost:8080/"
    },
    "id": "zA3-ZbzjMl7c",
    "outputId": "2fa77a24-9b42-43b7-8f4b-5addbc216f55"
   },
   "outputs": [],
   "source": [
    "print(writers)"
   ]
  },
  {
   "cell_type": "code",
   "execution_count": null,
   "id": "73efa344",
   "metadata": {},
   "outputs": [],
   "source": [
    "import pandas as pd\r\n",
    "\r\n",
    "kakao = pd.DataFrame({'title':titles, 'day':days, 'genre':None, 'story':synopsises, 'platform':'카카오웹툰', 'Thumbnail':main_image})"
   ]
  },
  {
   "cell_type": "code",
   "execution_count": null,
   "id": "ff541cee",
   "metadata": {
    "colab": {
     "base_uri": "https://localhost:8080/",
     "height": 204
    },
    "id": "IfAR0djNNb0X",
    "outputId": "bb6650a9-dd3a-44bd-8f66-f3c4e314d061"
   },
   "outputs": [],
   "source": [
    "kakao.head()"
   ]
  },
  {
   "cell_type": "code",
   "execution_count": null,
   "id": "d86f225b",
   "metadata": {
    "id": "Qecs8yoONs_E"
   },
   "outputs": [],
   "source": [
    "import re\r\n",
    "\r\n",
    "def preprocess_sentence_kr(w):\r\n",
    "  w = w.strip()\r\n",
    "  w = re.sub(r\"[^0-9가-힣?.!,¿]+\", \" \", w) # \\n도 공백으로 대체해줌\r\n",
    "  w = w.strip()\r\n",
    "  return w"
   ]
  },
  {
   "cell_type": "code",
   "execution_count": null,
   "id": "6f104dc3",
   "metadata": {
    "id": "Weol4dj9N16e"
   },
   "outputs": [],
   "source": [
    "kakao['story'] = kakao['story'].apply(lambda x:preprocess_sentence_kr(x))"
   ]
  },
  {
   "cell_type": "code",
   "execution_count": null,
   "id": "c70345ff",
   "metadata": {
    "colab": {
     "base_uri": "https://localhost:8080/",
     "height": 204
    },
    "id": "n5an_WOWN_WJ",
    "outputId": "519abeec-7fa7-4d54-b4b0-195f56b419b9"
   },
   "outputs": [],
   "source": [
    "kakao.head()"
   ]
  },
  {
   "cell_type": "code",
   "execution_count": null,
   "id": "3d64ebec",
   "metadata": {
    "id": "LEGSDMo3Nc0-"
   },
   "outputs": [],
   "source": [
    "kakao.to_csv('kakao.csv', encoding='euc-kr')"
   ]
  },
  {
   "cell_type": "code",
   "execution_count": null,
   "id": "f55d1da0-cda4-4214-aaa7-d1674b37936d",
   "metadata": {},
   "outputs": [],
   "source": []
  }
 ],
 "metadata": {
  "colab": {
   "collapsed_sections": [],
   "name": "JSON.ipynb의 사본",
   "provenance": []
  },
  "interpreter": {
   "hash": "cbc7b8543d1a0c0580dd6c6f93fd506ee08c247999fac6a3411f4896a6caf960"
  },
  "kernelspec": {
   "display_name": "Python Multi",
   "language": "python",
   "name": "multi"
  },
  "language_info": {
   "codemirror_mode": {
    "name": "ipython",
    "version": 3
   },
   "file_extension": ".py",
   "mimetype": "text/x-python",
   "name": "python",
   "nbconvert_exporter": "python",
   "pygments_lexer": "ipython3",
   "version": "3.7.6"
  }
 },
 "nbformat": 4,
 "nbformat_minor": 5
}
