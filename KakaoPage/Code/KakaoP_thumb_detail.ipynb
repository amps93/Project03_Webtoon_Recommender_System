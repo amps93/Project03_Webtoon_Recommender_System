{
 "cells": [
  {
   "cell_type": "code",
   "execution_count": 2,
   "id": "7356f17b-2d89-4fd5-a63e-61d1641a3498",
   "metadata": {},
   "outputs": [],
   "source": [
    "from __future__ import unicode_literals # 이게 뭘까\n",
    "import requests\n",
    "import pymongo\n",
    "import pandas as pd\n",
    "from selenium import webdriver\n",
    "from selenium.webdriver.chrome.options import Options\n",
    "# from scrapy.http import TextResponse\n",
    "import urllib.request\n",
    "import urllib\n",
    "import getpass\n",
    "import time\n",
    "import re\n",
    "# from google.cloud import vision\n",
    "# from google.cloud.vision import types\n",
    "import os\n",
    "import io\n",
    "from os import walk\n",
    "from bs4 import BeautifulSoup"
   ]
  },
  {
   "cell_type": "code",
   "execution_count": 10,
   "id": "fae565ff-50fb-478d-a284-6becc3f1f9b4",
   "metadata": {},
   "outputs": [
    {
     "name": "stdout",
     "output_type": "stream",
     "text": [
      "C:\\Users\\Amps\\Desktop\\Project\\Project03_Data_Science\n"
     ]
    }
   ],
   "source": [
    "!cd"
   ]
  },
  {
   "cell_type": "code",
   "execution_count": 12,
   "id": "6bfdae27-21d4-4f28-9f35-2f874244249b",
   "metadata": {},
   "outputs": [],
   "source": [
    "URL = 'https://page.kakao.com/home?seriesId=57563035'\n",
    "\n",
    "driver = webdriver.Chrome(executable_path='C:\\chromedriver')\n",
    "driver.implicitly_wait(time_to_wait=1)\n",
    "driver.get(URL)\n",
    "\n",
    "html = driver.page_source\n",
    "soup = BeautifulSoup(html, 'html.parser')\n",
    "\n",
    "title = soup.find('h2', {'class': 'text-ellipsis css-jgjrt'}).get_text() # 제목 수집\n",
    "author = soup.find_all('div', {'class': 'text-ellipsis css-7a7cma'})[1].get_text() # 작가 수집\n",
    "\n",
    "print(title, author)\n",
    "\n",
    "driver.execute_script(\"window.scrollTo(0, 2000);\")"
   ]
  },
  {
   "cell_type": "code",
   "execution_count": 50,
   "id": "957ff4f8-bfad-41d3-82cd-0ccfe87d3af2",
   "metadata": {},
   "outputs": [],
   "source": [
    "data_list=soup.findAll('ul',{'class':'css-14gr98z'})\n",
    "\n",
    "li_list = []\n",
    "for data in data_list:\n",
    "    li_list.extend(data.findAll('li')) #해당 부분을 찾아 li_list와 병합\n",
    "# pprint(li_list)\n",
    "\n",
    "#각각 썸네일과 제목 추출하기\n",
    "thumb = []\n",
    "for li in li_list:\n",
    "    img = li.find('img')\n",
    "    img_src = img['data-src']\n",
    "    print('https:' + img_src)\n",
    "    thumb.append('https:' + img_src)"
   ]
  },
  {
   "cell_type": "code",
   "execution_count": null,
   "id": "86d87d16-2404-4946-832e-c76ac0aaded6",
   "metadata": {},
   "outputs": [],
   "source": [
    "import os\n",
    "import time\n",
    "import urllib.request\n",
    "\n",
    "for i in range(len(thumb)):\n",
    "    urllib.request.urlretrieve(thumb[i], './img/' + title + '_' +str(i+1) +\".jpg\")"
   ]
  },
  {
   "cell_type": "code",
   "execution_count": 3,
   "id": "183d8180-6c1c-48ea-a00b-004647242893",
   "metadata": {},
   "outputs": [
    {
     "ename": "KeyError",
     "evalue": "'href'",
     "output_type": "error",
     "traceback": [
      "\u001b[1;31m---------------------------------------------------------------------------\u001b[0m",
      "\u001b[1;31mKeyError\u001b[0m                                  Traceback (most recent call last)",
      "\u001b[1;32m<ipython-input-3-97489e5eebe0>\u001b[0m in \u001b[0;36m<module>\u001b[1;34m\u001b[0m\n\u001b[0;32m     11\u001b[0m \u001b[1;33m\u001b[0m\u001b[0m\n\u001b[0;32m     12\u001b[0m \u001b[1;32mfor\u001b[0m \u001b[0meach_webtoon\u001b[0m \u001b[1;32min\u001b[0m \u001b[0mwebtoon_area\u001b[0m\u001b[1;33m:\u001b[0m\u001b[1;33m\u001b[0m\u001b[1;33m\u001b[0m\u001b[0m\n\u001b[1;32m---> 13\u001b[1;33m     \u001b[0mwebtoon_last_page\u001b[0m \u001b[1;33m=\u001b[0m \u001b[0mdomain_url\u001b[0m \u001b[1;33m+\u001b[0m \u001b[0meach_webtoon\u001b[0m\u001b[1;33m[\u001b[0m\u001b[1;34m'href'\u001b[0m\u001b[1;33m]\u001b[0m \u001b[1;33m+\u001b[0m \u001b[1;34m'&page={}'\u001b[0m\u001b[1;33m.\u001b[0m\u001b[0mformat\u001b[0m\u001b[1;33m(\u001b[0m\u001b[1;36m99999\u001b[0m\u001b[1;33m)\u001b[0m\u001b[1;33m\u001b[0m\u001b[1;33m\u001b[0m\u001b[0m\n\u001b[0m\u001b[0;32m     14\u001b[0m     \u001b[0mhtml\u001b[0m \u001b[1;33m=\u001b[0m \u001b[0mrequests\u001b[0m\u001b[1;33m.\u001b[0m\u001b[0mget\u001b[0m\u001b[1;33m(\u001b[0m\u001b[0mwebtoon_last_page\u001b[0m\u001b[1;33m)\u001b[0m\u001b[1;33m.\u001b[0m\u001b[0mtext\u001b[0m\u001b[1;33m\u001b[0m\u001b[1;33m\u001b[0m\u001b[0m\n\u001b[0;32m     15\u001b[0m     \u001b[0msoup\u001b[0m \u001b[1;33m=\u001b[0m \u001b[0mBeautifulSoup\u001b[0m\u001b[1;33m(\u001b[0m\u001b[0mhtml\u001b[0m\u001b[1;33m,\u001b[0m \u001b[1;34m'html.parser'\u001b[0m\u001b[1;33m)\u001b[0m\u001b[1;33m\u001b[0m\u001b[1;33m\u001b[0m\u001b[0m\n",
      "\u001b[1;32m~\\anaconda3\\envs\\multi\\lib\\site-packages\\bs4\\element.py\u001b[0m in \u001b[0;36m__getitem__\u001b[1;34m(self, key)\u001b[0m\n\u001b[0;32m   1404\u001b[0m         \"\"\"tag[key] returns the value of the 'key' attribute for the Tag,\n\u001b[0;32m   1405\u001b[0m         and throws an exception if it's not there.\"\"\"\n\u001b[1;32m-> 1406\u001b[1;33m         \u001b[1;32mreturn\u001b[0m \u001b[0mself\u001b[0m\u001b[1;33m.\u001b[0m\u001b[0mattrs\u001b[0m\u001b[1;33m[\u001b[0m\u001b[0mkey\u001b[0m\u001b[1;33m]\u001b[0m\u001b[1;33m\u001b[0m\u001b[1;33m\u001b[0m\u001b[0m\n\u001b[0m\u001b[0;32m   1407\u001b[0m \u001b[1;33m\u001b[0m\u001b[0m\n\u001b[0;32m   1408\u001b[0m     \u001b[1;32mdef\u001b[0m \u001b[0m__iter__\u001b[0m\u001b[1;33m(\u001b[0m\u001b[0mself\u001b[0m\u001b[1;33m)\u001b[0m\u001b[1;33m:\u001b[0m\u001b[1;33m\u001b[0m\u001b[1;33m\u001b[0m\u001b[0m\n",
      "\u001b[1;31mKeyError\u001b[0m: 'href'"
     ]
    }
   ],
   "source": [
    "webtoon_info = []\n",
    "total_df_info = []\n",
    "total_img_count = 0\n",
    "\n",
    "domain_url = 'https://page.kakao.com/main'\n",
    "main_url = 'https://page.kakao.com/main?categoryUid=10&subCategoryUid=1002'\n",
    "\n",
    "html = requests.get(main_url).text\n",
    "soup = BeautifulSoup(html, 'html.parser')\n",
    "webtoon_area = soup.select('#root > div.jsx-3157985592.mainContents.mainContents_pc > div.css-1sna24c > div.css-1saqd06 > div')\n",
    "\n",
    "for each_webtoon in webtoon_area:\n",
    "    webtoon_last_page = domain_url + each_webtoon['href'] + '&page={}'.format(99999)\n",
    "    html = requests.get(webtoon_last_page).text\n",
    "    soup = BeautifulSoup(html, 'html.parser')\n",
    "    last_page_num = int(soup.select('#content > div.paginate > div > strong.page')[0].find('em').text)\n",
    "\n",
    "    title = ', '.join([each_ele.strip() for each_ele in soup.select('.comicinfo h2')[0].text.split('\\n') if each_ele != ''])\n",
    "    title = ', '.join(['&'.join([each_text.strip() for each_text in each_text.split('/')]) for each_text in title.split(',')])\n",
    "    title = re.sub('[-=+#/\\?:^$.@*\\\"※~%ㆍ!』\\\\‘|\\(\\)\\[\\]\\<\\>`\\'…》]', '', title)\n",
    "\n",
    "    genre = soup.select('#content > div.comicinfo > div.detail > p.detail_info > span.genre')[0].text\n",
    "    content = soup.select('#content > div.comicinfo > div.detail > p:nth-child(2)')[0].text\n",
    "    age = soup.select('#content > div.comicinfo > div.detail > p.detail_info > span.age')[0].text\n",
    "\n",
    "    webtoon_info.append({'title': title, 'genre': genre, 'content': content, 'age': age})\n",
    "\n",
    "    for page_num in range(1, last_page_num + 1):\n",
    "        webtoon_url = domain_url + each_webtoon['href'] + '&page={}'.format(page_num)\n",
    "        html = requests.get(webtoon_url).text\n",
    "        soup = BeautifulSoup(html, 'html.parser')\n",
    "\n",
    "        if not os.path.exists('./imgs/{}'.format(title)):\n",
    "            os.mkdir('./imgs/{}'.format(title))\n",
    "\n",
    "        thumbnail_area = soup.find('table', 'viewList')\n",
    "        thumbnail_img_list = thumbnail_area.select('td > a > img')[1:]\n",
    "        \n",
    "#         for each_img_tag in thumbnail_img_list:\n",
    "#             print(re.sub('[^0-9a-zA-Zㄱ-힗]','',each_img_tag['alt'].split('/')[0]))\n",
    "\n",
    "        for each_img_tag in thumbnail_img_list:\n",
    "            urllib.request.urlretrieve(each_img_tag['src'], './imgs/{}/{}.png'.format(title, title + '_' + re.sub('[^0-9a-zA-Zㄱ-힗]','',str(each_img_tag['alt'].split('/')[0]))))\n",
    "#             urllib.request.urlretrieve(each_img_tag['src'], './total_img/{}.png'.format(title + '_' + '&'.join(each_img_tag['alt'].split('/')[0])))\n",
    "#             total_df_info.append({'title': title + '_' + '&'.join(each_img_tag['alt'].split('/')), 'genre': genre, 'content': content, 'age': age})\n",
    "            total_img_count += 1\n",
    "\n",
    "# df = pd.DataFrame(webtoon_info, columns=['title', 'genre', 'content', 'age'])\n",
    "# total_df = pd.DataFrame(total_df_info, columns=['title', 'genre', 'content', 'age'])\n",
    "# df.to_csv('webtoon_info.csv')\n",
    "# total_df.to_csv('total_img_info.csv')"
   ]
  },
  {
   "cell_type": "code",
   "execution_count": null,
   "id": "1440dff4-8553-47df-a0da-a8dd680cc261",
   "metadata": {},
   "outputs": [],
   "source": []
  }
 ],
 "metadata": {
  "kernelspec": {
   "display_name": "Python Multi",
   "language": "python",
   "name": "multi"
  },
  "language_info": {
   "codemirror_mode": {
    "name": "ipython",
    "version": 3
   },
   "file_extension": ".py",
   "mimetype": "text/x-python",
   "name": "python",
   "nbconvert_exporter": "python",
   "pygments_lexer": "ipython3",
   "version": "3.7.6"
  }
 },
 "nbformat": 4,
 "nbformat_minor": 5
}
