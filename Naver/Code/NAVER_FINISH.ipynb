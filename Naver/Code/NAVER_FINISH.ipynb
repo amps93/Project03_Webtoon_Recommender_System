{
 "cells": [
  {
   "cell_type": "code",
   "execution_count": null,
   "id": "85b28522-5af0-472c-87f5-3e45791b8089",
   "metadata": {},
   "outputs": [],
   "source": [
    "import requests\n",
    "from bs4 import BeautifulSoup\n",
    "import openpyxl\n",
    "import pandas as pd\n",
    "\n",
    "wb = openpyxl.Workbook()\n",
    "sheet = wb.active\n",
    "sheet.append(['title', 'author', 'genre', 'story', 'score', 'platform'])\n",
    "\n",
    "raw = requests.get(\"https://comic.naver.com/webtoon/finish.nhn?view=list&order=Update\",\n",
    "                   headers = {\"User-Agent\" : \"Mozilla/5.0\"})\n",
    "html = BeautifulSoup(raw.text, 'html.parser')\n",
    "webtoons = html.select(\"tbody > tr\")\n",
    "\n",
    "for webtoon in webtoons:\n",
    "    title = webtoon.select_one(\"td:nth-of-type(1) a\")\n",
    "    url = title.attrs[\"href\"]\n",
    "\n",
    "    score = webtoon.select_one(\"div.rating_type > strong\").text\n",
    "    author = webtoon.select_one(\"td:nth-of-type(3) a\").text\n",
    "\n",
    "\n",
    "    each_raw = requests.get(\"https://comic.naver.com\" + url,\n",
    "                            headers = {\"User-Agent\" : \"Mozilla/5.0\"})\n",
    "    each_html = BeautifulSoup(each_raw.text, 'html.parser')\n",
    "\n",
    "    genre = each_html.select_one(\"p.detail_info span.genre\").text\n",
    "    storysum = each_html.select_one(\"div.detail p\").text\n",
    "\n",
    "\n",
    "    print(\"TITLE : \" +title.text)\n",
    "    print(\"-\"*30)\n",
    "    print(\"SCORE : \" + score)\n",
    "    print(\"AUTHOR : \" + author)\n",
    "    print(\"GENRE : \" +genre)\n",
    "    print(\"STORY : \" +storysum)\n",
    "    print(\"=\"*50)\n",
    "\n",
    "    sheet.append([title.text, author, genre, storysum,  score])\n",
    "\n",
    "wb.save(\"NAVER_FINISH.xlsx\")"
   ]
  },
  {
   "cell_type": "code",
   "execution_count": null,
   "id": "7c3bc5e1-317c-4ba5-bcd0-033ad5e6a174",
   "metadata": {},
   "outputs": [],
   "source": [
    "# 작업전 생성된 XLSX 파일을 CSV 파일로 변환 후 작업할 것\n",
    "\n",
    "df = pd.read_csv('NAVER_FINISH.csv', encoding='utf-8')"
   ]
  },
  {
   "cell_type": "code",
   "execution_count": null,
   "id": "4e7ef5a2-0af5-4e73-8526-1dabc7dba9ec",
   "metadata": {},
   "outputs": [],
   "source": [
    "df"
   ]
  },
  {
   "cell_type": "code",
   "execution_count": null,
   "id": "465b057b-030b-45df-92a3-7085c9abef1e",
   "metadata": {},
   "outputs": [],
   "source": [
    "import re\n",
    "\n",
    "def preprocess_sentence_kr(w):\n",
    "  w = w.strip()\n",
    "  w = re.sub(r\"[^0-9가-힣?.!,¿]+\", \" \", w) # \\n도 공백으로 대체해줌\n",
    "  w = w.strip()\n",
    "  return w"
   ]
  },
  {
   "cell_type": "code",
   "execution_count": null,
   "id": "285826f9-ddc6-4492-8719-a0ff5450af68",
   "metadata": {},
   "outputs": [],
   "source": [
    "df['story'] = [preprocess_sentence_kr(l) for l in df['story']]"
   ]
  },
  {
   "cell_type": "code",
   "execution_count": null,
   "id": "11616903-4696-4419-897f-95f3234c48ec",
   "metadata": {},
   "outputs": [],
   "source": [
    "df.to_csv('NAVER_FINISH1.csv', encoding='euc-kr')"
   ]
  },
  {
   "cell_type": "code",
   "execution_count": null,
   "id": "7b795741-1a04-4355-ad29-6b8c409a6fe5",
   "metadata": {},
   "outputs": [],
   "source": []
  }
 ],
 "metadata": {
  "kernelspec": {
   "display_name": "mu",
   "language": "python",
   "name": "mu"
  },
  "language_info": {
   "codemirror_mode": {
    "name": "ipython",
    "version": 3
   },
   "file_extension": ".py",
   "mimetype": "text/x-python",
   "name": "python",
   "nbconvert_exporter": "python",
   "pygments_lexer": "ipython3",
   "version": "3.7.5"
  }
 },
 "nbformat": 4,
 "nbformat_minor": 5
}
