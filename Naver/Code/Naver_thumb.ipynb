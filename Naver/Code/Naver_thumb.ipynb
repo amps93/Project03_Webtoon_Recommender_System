{
 "cells": [
  {
   "cell_type": "code",
   "execution_count": 2,
   "id": "5184b579-0e77-4225-a9c4-d6ff75fdad5b",
   "metadata": {},
   "outputs": [],
   "source": [
    "from bs4 import BeautifulSoup\n",
    "from pprint import pprint\n",
    "import requests, re, os\n",
    "from urllib.request import urlretrieve"
   ]
  },
  {
   "cell_type": "code",
   "execution_count": null,
   "id": "d1811206-e877-4635-8bfd-11d628c8d8e8",
   "metadata": {},
   "outputs": [],
   "source": [
    "#연재중인 웹툰 썸네일 가져오기\n",
    "try:\n",
    "    if not(os.path.isdir('webtoon_image')):\n",
    "        os.makedirs(os.path.join('webtoon_image'))\n",
    "except OSError as e:\n",
    "    if e.errno != errno.EEXIST:\n",
    "        print(\"폴더 생성 실패\")\n",
    "        exit()\n",
    " \n",
    "html = requests.get(\"https://comic.naver.com/webtoon/weekday\")\n",
    "soup = BeautifulSoup(html.text, 'html.parser')\n",
    "html.close()\n",
    " \n",
    "data_list=soup.findAll('div',{'class':'col_inner'})\n",
    "# pprint(data1_list)\n",
    " \n",
    "li_list = []\n",
    "for data in data_list:\n",
    "    li_list.extend(data.findAll('li'))\n",
    "#pprint(li_list)\n",
    " \n",
    "for li in li_list:\n",
    "    img = li.find('img')\n",
    "    title = img['title']\n",
    "    img_src = img['src']\n",
    " \n",
    "    title = re.sub('[^0-9a-zA-Zㄱ-힗]','',title)\n",
    " \n",
    "    urlretrieve( img_src, './webtoon_image/'+title+'.jpg')\n",
    "    print(title,img_src)\n",
    "\n",
    "print('finish')"
   ]
  },
  {
   "cell_type": "code",
   "execution_count": null,
   "id": "1c6cd467-3768-4796-87ca-c63e7b273cc0",
   "metadata": {},
   "outputs": [],
   "source": [
    "#완결 웹툰 썸네일 가져오기\n",
    "try:\n",
    "    if not(os.path.isdir('end_webtoon_image')):\n",
    "        os.makedirs(os.path.join('end_webtoon_image'))\n",
    "except OSError as e:\n",
    "    if e.errno != errno.EEXIST:\n",
    "        print(\"폴더 생성 실패\")\n",
    "        exit()\n",
    "\n",
    "html = requests.get(\"https://comic.naver.com/webtoon/finish\")\n",
    "soup = BeautifulSoup(html.text, 'html.parser')\n",
    "html.close()\n",
    " \n",
    "data_list=soup.findAll('div',{'class':'list_area'})\n",
    "# pprint(data1_list)\n",
    " \n",
    "li_list = []\n",
    "for data in data_list:\n",
    "    li_list.extend(data.findAll('li'))\n",
    "# pprint(li_list)\n",
    " \n",
    "for li in li_list:\n",
    "    img = li.find('img')\n",
    "    title = img['title']\n",
    "    img_src = img['src']\n",
    " \n",
    "    title = re.sub('[^0-9a-zA-Zㄱ-힗]','',title)\n",
    " \n",
    "    urlretrieve( img_src, './end_webtoon_image/'+title+'.jpg')\n",
    "    print(title,img_src)\n",
    "    \n",
    "print('finish')"
   ]
  },
  {
   "cell_type": "code",
   "execution_count": null,
   "id": "c38a4716-4c47-4556-9a57-ee555d8bee41",
   "metadata": {},
   "outputs": [],
   "source": []
  }
 ],
 "metadata": {
  "kernelspec": {
   "display_name": "Python Multi",
   "language": "python",
   "name": "multi"
  },
  "language_info": {
   "codemirror_mode": {
    "name": "ipython",
    "version": 3
   },
   "file_extension": ".py",
   "mimetype": "text/x-python",
   "name": "python",
   "nbconvert_exporter": "python",
   "pygments_lexer": "ipython3",
   "version": "3.7.6"
  }
 },
 "nbformat": 4,
 "nbformat_minor": 5
}
