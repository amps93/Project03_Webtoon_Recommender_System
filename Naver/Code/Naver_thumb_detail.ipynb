{
 "cells": [
  {
   "cell_type": "code",
   "execution_count": null,
   "id": "7356f17b-2d89-4fd5-a63e-61d1641a3498",
   "metadata": {},
   "outputs": [],
   "source": [
    "from __future__ import unicode_literals # 이게 뭘까\n",
    "import requests\n",
    "import pymongo\n",
    "import pandas as pd\n",
    "from selenium import webdriver\n",
    "from selenium.webdriver.chrome.options import Options\n",
    "# from scrapy.http import TextResponse\n",
    "import urllib.request\n",
    "import urllib\n",
    "import getpass\n",
    "import time\n",
    "import re\n",
    "# from google.cloud import vision\n",
    "# from google.cloud.vision import types\n",
    "import os\n",
    "import io\n",
    "from os import walk\n",
    "from bs4 import BeautifulSoup"
   ]
  },
  {
   "cell_type": "code",
   "execution_count": null,
   "id": "fae565ff-50fb-478d-a284-6becc3f1f9b4",
   "metadata": {},
   "outputs": [],
   "source": [
    "!cd"
   ]
  },
  {
   "cell_type": "code",
   "execution_count": null,
   "id": "957ff4f8-bfad-41d3-82cd-0ccfe87d3af2",
   "metadata": {},
   "outputs": [],
   "source": [
    "if not os.path.exists('./thumb_detail'):\n",
    "    os.mkdir('./thumb_detail')\n",
    "\n",
    "webtoon_info = []\n",
    "total_df_info = []\n",
    "total_img_count = 0\n",
    "\n",
    "domain_url = 'https://comic.naver.com'\n",
    "main_url = 'https://comic.naver.com/webtoon/weekday.nhn'\n",
    "\n",
    "html = requests.get(main_url).text\n",
    "soup = BeautifulSoup(html, 'html.parser')\n",
    "webtoon_area = soup.select('#content > div.list_area.daily_all > div.col > div > ul > li > div.thumb > a')\n",
    "\n",
    "for each_webtoon in webtoon_area:\n",
    "    webtoon_last_page = domain_url + each_webtoon['href'] + '&page={}'.format(99999)\n",
    "    html = requests.get(webtoon_last_page).text\n",
    "    soup = BeautifulSoup(html, 'html.parser')\n",
    "    last_page_num = int(soup.select('#content > div.paginate > div > strong.page')[0].find('em').text)\n",
    "    \n",
    "    title = soup.select('.comicinfo h2')[0].text.split('\\n')[1]\n",
    "#     title = ', '.join([each_ele.strip() for each_ele in soup.select('.comicinfo h2')[0].text.split('\\n') if each_ele != ''])\n",
    "    title = ', '.join(['&'.join([each_text.strip() for each_text in each_text.split('/')]) for each_text in title.split(',')])\n",
    "    excel_title = title\n",
    "    title = re.sub('[-=+#/\\?:^$.@*\\\"※~%ㆍ!』\\\\‘|\\(\\)\\[\\]\\<\\>`\\'…》]', '', title)\n",
    "#     print(title)\n",
    "    \n",
    "    author = soup.select('.comicinfo h2')[0].text.split('\\n')[2] \n",
    "#     author = ', '.join([each_ele.strip() for each_ele in soup.select('.comicinfo h2')[0].text.split('\\n') if each_ele != ''])\n",
    "    author = ', '.join([','.join([each_text.strip() for each_text in each_text.split('/')]) for each_text in author.split(',')])\n",
    "    author = re.sub('[-=+#/\\?:^$.@*\\\"※~%ㆍ!』\\\\‘|\\(\\)\\[\\]\\<\\>`\\'…》]', '', author)\n",
    "    print(author)\n",
    "#     print(type(author))\n",
    "#     print(author.split(','))\n",
    "    \n",
    "    if len(author.split(','))>0:\n",
    "        writer = author.split(',')[0]\n",
    "    else:\n",
    "        writer = author\n",
    "#     print(writer)\n",
    "    \n",
    "    if len(author.split(','))>0:\n",
    "        illustrator = author.split(',')[-1]\n",
    "    else:\n",
    "        illustrator = author\n",
    "#     print(illustrator)\n",
    "\n",
    "\n",
    "    genre = soup.select('#content > div.comicinfo > div.detail > p.detail_info > span.genre')[0].text\n",
    "    story = soup.select('#content > div.comicinfo > div.detail > p:nth-child(2)')[0].text\n",
    "    age = soup.select('#content > div.comicinfo > div.detail > p.detail_info > span.age')[0].text\n",
    "\n",
    "    webtoon_info.append({'title': excel_title, 'writer': writer, 'illustrator':illustrator, 'genre': genre, 'story': story, 'age': age})\n",
    "\n",
    "    for page_num in range(1, last_page_num + 1):\n",
    "        webtoon_url = domain_url + each_webtoon['href'] + '&page={}'.format(page_num)\n",
    "        html = requests.get(webtoon_url).text\n",
    "        soup = BeautifulSoup(html, 'html.parser')\n",
    "\n",
    "        if not os.path.exists('./thumb_detail/{}'.format(illustrator)):\n",
    "            os.mkdir('./thumb_detail/{}'.format(illustrator))\n",
    "\n",
    "        thumbnail_area = soup.find('table', 'viewList')\n",
    "        thumbnail_img_list = thumbnail_area.select('td > a > img')[1:]\n",
    "        \n",
    "#         for each_img_tag in thumbnail_img_list:\n",
    "#             print(re.sub('[^0-9a-zA-Zㄱ-힗]','',each_img_tag['alt'].split('/')[0]))\n",
    "\n",
    "\n",
    "        for each_img_tag in thumbnail_img_list:\n",
    "            urllib.request.urlretrieve(each_img_tag['src'], './thumb_detail/{}/{}.png'.format(illustrator, title + '_' + re.sub('[\\\\/:*?\"<>|]','',str(each_img_tag['alt'].split('/')[0]))))\n",
    "#             urllib.request.urlretrieve(each_img_tag['src'], './total_img/{}.png'.format(author + '_' + '&'.join(each_img_tag['alt'].split('/')[0])))\n",
    "            total_df_info.append({'title': excel_title, 'writer': writer,'illustrator':illustrator, 'genre': genre, 'story': story, 'age': age})\n",
    "            total_img_count += 1\n",
    "        \n",
    "    print(title+' done')\n",
    "            \n",
    "\n",
    "df = pd.DataFrame(webtoon_info, columns=['title', 'writer', 'illustrator', 'genre', 'story', 'age'])\n",
    "total_df = pd.DataFrame(total_df_info, columns=['title', 'writer', 'illustrator', 'genre', 'story', 'age'])\n",
    "df.to_csv('webtoon_info.csv')\n",
    "df.to_csv('webtoon_info_encode.csv', encoding='utf-8-sig')\n",
    "total_df.to_csv('total_img_info.csv')"
   ]
  },
  {
   "cell_type": "code",
   "execution_count": 32,
   "id": "86d87d16-2404-4946-832e-c76ac0aaded6",
   "metadata": {},
   "outputs": [
    {
     "data": {
      "text/plain": [
       "31028"
      ]
     },
     "execution_count": 32,
     "metadata": {},
     "output_type": "execute_result"
    }
   ],
   "source": [
    "total_img_count"
   ]
  },
  {
   "cell_type": "code",
   "execution_count": null,
   "id": "2e4a8e95-4fc1-475c-acc2-4644b6de63a4",
   "metadata": {},
   "outputs": [],
   "source": []
  }
 ],
 "metadata": {
  "kernelspec": {
   "display_name": "Python Multi",
   "language": "python",
   "name": "multi"
  },
  "language_info": {
   "codemirror_mode": {
    "name": "ipython",
    "version": 3
   },
   "file_extension": ".py",
   "mimetype": "text/x-python",
   "name": "python",
   "nbconvert_exporter": "python",
   "pygments_lexer": "ipython3",
   "version": "3.7.6"
  }
 },
 "nbformat": 4,
 "nbformat_minor": 5
}
